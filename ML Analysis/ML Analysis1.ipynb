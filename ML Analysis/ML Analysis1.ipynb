{
 "cells": [
  {
   "cell_type": "code",
   "execution_count": 1,
   "metadata": {},
   "outputs": [
    {
     "name": "stderr",
     "output_type": "stream",
     "text": [
      "C:\\Users\\dimit\\AppData\\Local\\Temp\\ipykernel_21572\\1802989530.py:1: DeprecationWarning: \n",
      "Pyarrow will become a required dependency of pandas in the next major release of pandas (pandas 3.0),\n",
      "(to allow more performant data types, such as the Arrow string type, and better interoperability with other libraries)\n",
      "but was not found to be installed on your system.\n",
      "If this would cause problems for you,\n",
      "please provide us feedback at https://github.com/pandas-dev/pandas/issues/54466\n",
      "        \n",
      "  import pandas as pd\n"
     ]
    }
   ],
   "source": [
    "import pandas as pd\n",
    "\n",
    "# Read CSV files into DataFrames\n",
    "data_2020 = pd.DataFrame(pd.read_csv('Data/rank_name_symbol_2020.csv'))\n",
    "data_2021 = pd.DataFrame(pd.read_csv('Data/rank_name_symbol_2021.csv'))\n",
    "data_2022 = pd.DataFrame(pd.read_csv('Data/rank_name_symbol_2022.csv'))\n",
    "data_2023 = pd.DataFrame(pd.read_csv('Data/rank_name_symbol_2023.csv'))"
   ]
  },
  {
   "cell_type": "code",
   "execution_count": 2,
   "metadata": {},
   "outputs": [],
   "source": [
    "# Remove commas from the 'Profit' column\n",
    "data_2020['Profit'] = data_2020.loc[:,'Profit'].str.replace(',', '')\n",
    "data_2021['Profit'] = data_2021.loc[:,'Profit'].str.replace(',', '')\n",
    "data_2022['Profit'] = data_2022.loc[:,'Profit'].str.replace(',', '')\n",
    "data_2023['Profit'] = data_2023.loc[:,'Profit'].str.replace(',', '')\n",
    "\n",
    "# Remove $ from the 'Profit' column\n",
    "data_2020['Profit'] = data_2020.loc[:,'Profit'].str.replace('$', '')\n",
    "data_2021['Profit'] = data_2021.loc[:,'Profit'].str.replace('$', '')\n",
    "data_2022['Profit'] = data_2022.loc[:,'Profit'].str.replace('$', '')\n",
    "data_2023['Profit'] = data_2023.loc[:,'Profit'].str.replace('$', '')\n",
    "\n",
    "# Remove () from the 'Profit' column\n",
    "data_2020['Profit'] = data_2020.loc[:,'Profit'].str.replace(')', '')\n",
    "data_2021['Profit'] = data_2021.loc[:,'Profit'].str.replace(')', '')\n",
    "data_2022['Profit'] = data_2022.loc[:,'Profit'].str.replace(')', '')\n",
    "data_2023['Profit'] = data_2023.loc[:,'Profit'].str.replace(')', '')\n",
    "data_2020['Profit'] = data_2020.loc[:,'Profit'].str.replace('(', '')\n",
    "data_2021['Profit'] = data_2021.loc[:,'Profit'].str.replace('(', '')\n",
    "data_2022['Profit'] = data_2022.loc[:,'Profit'].str.replace('(', '')\n",
    "data_2023['Profit'] = data_2023.loc[:,'Profit'].str.replace('(', '')\n",
    "\n",
    "# Convert the 'Profit' column to float\n",
    "data_2020['Profit'] = data_2020.loc[:,'Profit'].astype(float)\n",
    "data_2021['Profit'] = data_2021.loc[:,'Profit'].astype(float)\n",
    "data_2022['Profit'] = data_2022.loc[:,'Profit'].astype(float)\n",
    "data_2023['Profit'] = data_2023.loc[:,'Profit'].astype(float)\n",
    "\n",
    "# Remove commas from the 'Revenue' column\n",
    "data_2020['Revenue'] = data_2020.loc[:,'Revenue'].str.replace(',', '')\n",
    "data_2021['Revenue'] = data_2021.loc[:,'Revenue'].str.replace(',', '')\n",
    "data_2022['Revenue'] = data_2022.loc[:,'Revenue'].str.replace(',', '')\n",
    "data_2023['Revenue'] = data_2023.loc[:,'Revenue'].str.replace(',', '')\n",
    "\n",
    "# Remove $ from the 'Revenue' column\n",
    "data_2020['Revenue'] = data_2020.loc[:,'Revenue'].str.replace('$', '')\n",
    "data_2021['Revenue'] = data_2021.loc[:,'Revenue'].str.replace('$', '')\n",
    "data_2022['Revenue'] = data_2022.loc[:,'Revenue'].str.replace('$', '')\n",
    "data_2023['Revenue'] = data_2023.loc[:,'Revenue'].str.replace('$', '')\n",
    "\n",
    "# Convert the 'Revenue' column to float\n",
    "data_2020['Revenue'] = data_2020.loc[:,'Revenue'].astype(float)\n",
    "data_2021['Revenue'] = data_2021.loc[:,'Revenue'].astype(float)\n",
    "data_2022['Revenue'] = data_2022.loc[:,'Revenue'].astype(float)\n",
    "data_2023['Revenue'] = data_2023.loc[:,'Revenue'].astype(float)\n",
    "\n",
    "\n",
    "# Convert the Stocks columns to float\n",
    "data_2020.loc[:, 'm1-o':'gdp-12'] = data_2020.loc[:, 'm1-o':'gdp-12'].astype(float)\n",
    "data_2021.loc[:, 'm1-o':'gdp-12'] = data_2021.loc[:, 'm1-o':'gdp-12'].astype(float)\n",
    "data_2022.loc[:, 'm1-o':'gdp-12'] = data_2022.loc[:, 'm1-o':'gdp-12'].astype(float)\n",
    "data_2023.loc[:, 'm1-o':'gdp-12'] = data_2023.loc[:, 'm1-o':'gdp-12'].astype(float)\n",
    "\n",
    "\n",
    "# Convert the columns of string type\n",
    "data_2020.loc[:, 'Name':'Industry'] = data_2020.loc[:, 'Name':'Industry'].astype(str)\n",
    "data_2021.loc[:, 'Name':'Industry'] = data_2021.loc[:, 'Name':'Industry'].astype(str)\n",
    "data_2022.loc[:, 'Name':'Industry'] = data_2022.loc[:, 'Name':'Industry'].astype(str)\n",
    "data_2023.loc[:, 'Name':'Industry'] = data_2023.loc[:, 'Name':'Industry'].astype(str)"
   ]
  },
  {
   "cell_type": "code",
   "execution_count": 3,
   "metadata": {},
   "outputs": [],
   "source": [
    "# Cleaning the data for the missing value\n",
    "# Drop rows where any of the specified columns have null values\n",
    "data_2020_cleaned = data_2020.dropna()\n",
    "data_2021_cleaned = data_2021.dropna()\n",
    "data_2022_cleaned = data_2022.dropna()\n",
    "data_2023_cleaned = data_2023.dropna()"
   ]
  },
  {
   "cell_type": "code",
   "execution_count": 4,
   "metadata": {},
   "outputs": [],
   "source": [
    "#Reordering columns\n",
    "numerical_2020 = data_2020_cleaned.loc[:, 'm1-o':'gdp-12']\n",
    "numerical_2020['Revenue'] = data_2020_cleaned['Revenue']\n",
    "numerical_2020['Profit'] = data_2020_cleaned['Profit']  \n",
    "categorical_2020 = data_2020_cleaned.loc[:, ['Ticker','Sector', 'Industry', 'Rank']]\n",
    "\n",
    "numerical_2021 = data_2021_cleaned.loc[:, 'm1-o':'gdp-12']\n",
    "numerical_2021['Revenue'] = data_2021_cleaned['Revenue']\n",
    "numerical_2021['Profit'] = data_2021_cleaned['Profit']  \n",
    "categorical_2021 = data_2021_cleaned.loc[:, ['Ticker','Sector', 'Industry', 'Rank']]\n",
    "\n",
    "numerical_2022 = data_2022_cleaned.loc[:, 'm1-o':'gdp-12']\n",
    "numerical_2022['Revenue'] = data_2022_cleaned['Revenue']\n",
    "numerical_2022['Profit'] = data_2022_cleaned['Profit']  \n",
    "categorical_2022 = data_2022_cleaned.loc[:, ['Ticker','Sector', 'Industry', 'Rank']]\n",
    "\n",
    "numerical_2023 = data_2023_cleaned.loc[:, 'm1-o':'gdp-12']\n",
    "numerical_2023['Revenue'] = data_2023_cleaned['Revenue']\n",
    "numerical_2023['Profit'] = data_2023_cleaned['Profit']  \n",
    "categorical_2023 = data_2023_cleaned.loc[:, ['Ticker','Sector', 'Industry', 'Rank']]\n"
   ]
  },
  {
   "cell_type": "code",
   "execution_count": 5,
   "metadata": {},
   "outputs": [],
   "source": [
    "import numpy as np\n",
    "import matplotlib as plt\n",
    "import seaborn as sns\n",
    "#Combining data\n",
    "combined_2020 = pd.concat([categorical_2020, numerical_2020], axis=1)\n",
    "combined_2021 = pd.concat([categorical_2021, numerical_2021], axis=1)\n",
    "combined_2022 = pd.concat([categorical_2022, numerical_2022], axis=1)\n",
    "combined_2023 = pd.concat([categorical_2023, numerical_2023], axis=1)\n",
    "data = pd.concat([combined_2020, combined_2021, combined_2022, combined_2023], axis=0)"
   ]
  },
  {
   "cell_type": "code",
   "execution_count": 6,
   "metadata": {},
   "outputs": [
    {
     "name": "stdout",
     "output_type": "stream",
     "text": [
      "Train set shape: (1062, 50) (1062,)\n",
      "Validation set shape: (354, 50) (354,)\n",
      "Test set shape: (354, 50) (354,)\n"
     ]
    }
   ],
   "source": [
    "from sklearn.model_selection import train_test_split\n",
    "\n",
    "#Separating X and Y variables\n",
    "X = data.loc[:, 'Rank':'Revenue']\n",
    "Y = data.loc[:,'Profit']\n",
    "\n",
    "# Splitting data into train and test sets (80% train, 20% test)\n",
    "X_train, X_test, Y_train, Y_test = train_test_split(X, Y, test_size=0.2, random_state=42)\n",
    "\n",
    "# Splitting train set into train and validation sets (60% train, 20% validation)\n",
    "X_train, X_val, Y_train, Y_val = train_test_split(X_train, Y_train, test_size=0.25, random_state=42)\n",
    "\n",
    "# Checking the shapes of the sets\n",
    "print(\"Train set shape:\", X_train.shape, Y_train.shape)\n",
    "print(\"Validation set shape:\", X_val.shape, Y_val.shape)\n",
    "print(\"Test set shape:\", X_test.shape, Y_test.shape)"
   ]
  },
  {
   "cell_type": "code",
   "execution_count": 7,
   "metadata": {},
   "outputs": [
    {
     "name": "stdout",
     "output_type": "stream",
     "text": [
      "Validation Set Accuracy: 0.40295292077423106\n",
      "Test Set Accuracy: -0.252054479916324\n"
     ]
    }
   ],
   "source": [
    "from sklearn.linear_model import LinearRegression\n",
    "\n",
    "clf = LinearRegression()\n",
    "clf.fit(X_train, Y_train)\n",
    "val_score = clf.score(X_val, Y_val)\n",
    "test_score = clf.score(X_test, Y_test)\n",
    "print(\"Validation Set Accuracy: \"+ str(val_score))\n",
    "print(\"Test Set Accuracy: \"+ str(test_score))"
   ]
  },
  {
   "cell_type": "code",
   "execution_count": null,
   "metadata": {},
   "outputs": [],
   "source": []
  }
 ],
 "metadata": {
  "kernelspec": {
   "display_name": "Python 3",
   "language": "python",
   "name": "python3"
  },
  "language_info": {
   "codemirror_mode": {
    "name": "ipython",
    "version": 3
   },
   "file_extension": ".py",
   "mimetype": "text/x-python",
   "name": "python",
   "nbconvert_exporter": "python",
   "pygments_lexer": "ipython3",
   "version": "3.12.2"
  }
 },
 "nbformat": 4,
 "nbformat_minor": 2
}
